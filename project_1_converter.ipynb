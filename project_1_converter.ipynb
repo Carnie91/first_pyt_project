{
 "cells": [
  {
   "cell_type": "markdown",
   "id": "8ef62e20",
   "metadata": {},
   "source": [
    "**Unit of Measurement Converter Project**"
   ]
  },
  {
   "cell_type": "code",
   "execution_count": 2,
   "id": "039b0719",
   "metadata": {},
   "outputs": [],
   "source": [
    "#what do we need?: (1) input (2) starting measure unit (3) ending measure unit"
   ]
  },
  {
   "cell_type": "code",
   "execution_count": 16,
   "id": "0c1033e9",
   "metadata": {},
   "outputs": [
    {
     "name": "stdout",
     "output_type": "stream",
     "text": [
      "Enter starting Unit of Measurement(inches, feet, yards): inches\n",
      "Enter Unit of Unit of Measurement to Convert to(inches, feet, yards): feet\n",
      "Enter Starting Measurement in Inches: 24\n",
      "Enter Starting Measurement in Feet: 3\n",
      "Enter Starting Measurement in Yards: 1\n"
     ]
    }
   ],
   "source": [
    "convert_from = input (\"Enter starting Unit of Measurement(inches, feet, yards): \")\n",
    "\n",
    "convert_to = input (\"Enter Unit of Unit of Measurement to Convert to(inches, feet, yards): \")\n",
    "\n",
    "number_of_inches = input (\"Enter Starting Measurement in Inches: \")\n",
    "\n",
    "number_of_feet = input (\"Enter Starting Measurement in Feet: \")\n",
    "\n",
    "number_of_yards = input (\"Enter Starting Measurement in Yards: \")"
   ]
  },
  {
   "cell_type": "code",
   "execution_count": 18,
   "id": "0ce2b9fb",
   "metadata": {},
   "outputs": [
    {
     "name": "stdout",
     "output_type": "stream",
     "text": [
      "Enter starting Unit of Measurement(inches, feet, yards): inches\n",
      "Enter Unit of Unit of Measurement to Convert to(inches, feet, yards): feet\n",
      "Enter Starting Measurement in Inches: 24\n"
     ]
    },
    {
     "ename": "NameError",
     "evalue": "name 'numer_of_inches' is not defined",
     "output_type": "error",
     "traceback": [
      "\u001b[1;31m---------------------------------------------------------------------------\u001b[0m",
      "\u001b[1;31mNameError\u001b[0m                                 Traceback (most recent call last)",
      "Cell \u001b[1;32mIn[18], line 8\u001b[0m\n\u001b[0;32m      6\u001b[0m number_of_inches \u001b[38;5;241m=\u001b[39m \u001b[38;5;28minput\u001b[39m (\u001b[38;5;124m\"\u001b[39m\u001b[38;5;124mEnter Starting Measurement in Inches: \u001b[39m\u001b[38;5;124m\"\u001b[39m) \u001b[38;5;66;03m#error due to the data type\u001b[39;00m\n\u001b[0;32m      7\u001b[0m \u001b[38;5;28;01mif\u001b[39;00m convert_to \u001b[38;5;241m==\u001b[39m \u001b[38;5;124m\"\u001b[39m\u001b[38;5;124mfeet\u001b[39m\u001b[38;5;124m\"\u001b[39m:\n\u001b[1;32m----> 8\u001b[0m     \u001b[38;5;28mprint\u001b[39m(numer_of_inches \u001b[38;5;241m/\u001b[39m \u001b[38;5;241m12\u001b[39m)\n",
      "\u001b[1;31mNameError\u001b[0m: name 'numer_of_inches' is not defined"
     ]
    }
   ],
   "source": [
    "convert_from = input (\"Enter starting Unit of Measurement(inches, feet, yards): \")\n",
    "\n",
    "convert_to = input (\"Enter Unit of Unit of Measurement to Convert to(inches, feet, yards): \")\n",
    "\n",
    "if convert_from == \"inches\":\n",
    "    number_of_inches = input (\"Enter Starting Measurement in Inches: \") #error due to the data type\n",
    "    if convert_to == \"feet\":\n",
    "        print(numer_of_inches / 12)"
   ]
  },
  {
   "cell_type": "code",
   "execution_count": 49,
   "id": "ec80982b",
   "metadata": {},
   "outputs": [
    {
     "name": "stdout",
     "output_type": "stream",
     "text": [
      "Enter starting Unit of Measurement(inches, feet, yards): feet\n",
      "Enter Unit of Unit of Measurement to Convert to(inches, feet, yards): yards\n",
      "Enter Starting Measurement in Feet: 5\n",
      "Result: 5 Feet = 1.67 Yards\n"
     ]
    }
   ],
   "source": [
    "convert_from = input (\"Enter starting Unit of Measurement(inches, feet, yards): \")\n",
    "\n",
    "convert_to = input (\"Enter Unit of Unit of Measurement to Convert to(inches, feet, yards): \")\n",
    "\n",
    "if convert_from.lower() in [\"inches\",\"in\",\"inch\"]:\n",
    "    number_of_inches = int(input (\"Enter Starting Measurement in Inches: \"))\n",
    "    if convert_to.lower() in [\"feet\",\"foot\",\"ft\"]:\n",
    "        print(\"Result: \" + str(number_of_inches) + \" Inches = \" + str(round(number_of_inches / 12,2)) + \" Feet\")\n",
    "    elif convert_to.lower() in [\"yards\",\"yard\",\"yds\",\"yd\"]:\n",
    "        print(\"Result: \" + str(number_of_inches) + \" Inches = \" + str(round(number_of_inches / 36,2)) + \" Yards\")\n",
    "    else:\n",
    "        print(\"Please Enter either Inches, Feet, or Yards.\")\n",
    "elif convert_from.lower() in [\"feet\",\"foot\",\"ft\"]:\n",
    "    number_of_feet = int(input(\"Enter Starting Measurement in Feet: \"))\n",
    "    if convert_to.lower() in [\"inches\",\"in\",\"inch\"]:\n",
    "        print(\"Result: \" + str(number_of_feet) + \" Feet = \" + str(round(number_of_feet * 12)) + \" Inches\")\n",
    "    elif convert_to.lower() in [\"yards\",\"yard\",\"yds\",\"yd\"]:\n",
    "        print(\"Result: \" + str(number_of_feet) + \" Feet = \" + str(round(number_of_feet / 3,2)) + \" Yards\")\n",
    "    else:\n",
    "        print(\"Please Enter either Inches, Feet, or Yards.\")\n",
    "elif convert_from.lower() in [\"yards\",\"yard\",\"yds\",\"yd\"]:\n",
    "    number_of_yards = int(input (\"Enter Starting Measurement in Yards: \"))\n",
    "    if convert_to.lower() in [\"inches\",\"in\",\"inch\"]:\n",
    "        print(\"Result: \" + str(number_of_yards) + \" Yards = \" + str(round(number_of_yards * 36)) + \" Inches\")\n",
    "    elif convert_to.lower() in [\"feet\",\"foot\",\"ft\"]:\n",
    "        print(\"Result: \" + str(number_of_yards) + \" Yards = \" + str(round(number_of_yards * 3)) + \" Feet\")\n",
    "    else:\n",
    "        print(\"Please Enter either Inches, Feet, or Yards.\")\n",
    "else:\n",
    "    print(\"Please Enter either Inches, Feet, or Yards.\")"
   ]
  },
  {
   "cell_type": "code",
   "execution_count": null,
   "id": "2ec400de",
   "metadata": {},
   "outputs": [],
   "source": []
  },
  {
   "cell_type": "code",
   "execution_count": null,
   "id": "51590fed",
   "metadata": {},
   "outputs": [],
   "source": []
  },
  {
   "cell_type": "code",
   "execution_count": null,
   "id": "6e2080cb",
   "metadata": {},
   "outputs": [],
   "source": []
  },
  {
   "cell_type": "code",
   "execution_count": null,
   "id": "0ca8350d",
   "metadata": {},
   "outputs": [],
   "source": []
  },
  {
   "cell_type": "code",
   "execution_count": null,
   "id": "a4605dca",
   "metadata": {},
   "outputs": [],
   "source": []
  }
 ],
 "metadata": {
  "kernelspec": {
   "display_name": "Python 3 (ipykernel)",
   "language": "python",
   "name": "python3"
  },
  "language_info": {
   "codemirror_mode": {
    "name": "ipython",
    "version": 3
   },
   "file_extension": ".py",
   "mimetype": "text/x-python",
   "name": "python",
   "nbconvert_exporter": "python",
   "pygments_lexer": "ipython3",
   "version": "3.11.5"
  }
 },
 "nbformat": 4,
 "nbformat_minor": 5
}
