{
 "cells": [
  {
   "cell_type": "markdown",
   "id": "c5854671",
   "metadata": {},
   "source": [
    "**Adult and Child BMI Calculator**"
   ]
  },
  {
   "cell_type": "code",
   "execution_count": null,
   "id": "a6ee4459",
   "metadata": {},
   "outputs": [],
   "source": [
    "#https://www.calculatorsoup.com/calculators/health/bmi-calculator.php"
   ]
  },
  {
   "cell_type": "code",
   "execution_count": 15,
   "id": "9527f72b",
   "metadata": {},
   "outputs": [],
   "source": [
    "#1 define the operation\n",
    "\n",
    "def BMI(x,y):\n",
    "    return (x/(y**2))"
   ]
  },
  {
   "cell_type": "code",
   "execution_count": null,
   "id": "81980b32",
   "metadata": {},
   "outputs": [],
   "source": [
    "#2 define the input"
   ]
  },
  {
   "cell_type": "code",
   "execution_count": 5,
   "id": "c2b9534b",
   "metadata": {},
   "outputs": [
    {
     "name": "stdout",
     "output_type": "stream",
     "text": [
      "Enter your weight in kg:85\n",
      "Enter your height in m:1.80\n"
     ]
    }
   ],
   "source": [
    "weight = float(input(\"Enter your weight in kg:\"))\n",
    "\n",
    "height = float(input(\"Enter your height in m:\"))"
   ]
  },
  {
   "cell_type": "code",
   "execution_count": 24,
   "id": "f1941686",
   "metadata": {},
   "outputs": [
    {
     "name": "stdout",
     "output_type": "stream",
     "text": [
      "Enter your weight in kg:54\n",
      "Enter your height in m:1.62\n",
      "Your BMI is:  20.6\n",
      "You're Normal\n",
      "Want to do another calculation? (yes/no?): y\n",
      "Enter your weight in kg:85\n",
      "Enter your height in m:1.80\n",
      "Your BMI is:  26.2\n",
      "You're Overweight\n",
      "Want to do another calculation? (yes/no?): n\n"
     ]
    }
   ],
   "source": [
    "#3 prepare the calculation\n",
    "\n",
    "while True:\n",
    "    \n",
    "    weight = float(input(\"Enter your weight in kg:\"))\n",
    "\n",
    "    height = float(input(\"Enter your height in m:\"))\n",
    "    \n",
    "    your_bmi = BMI(weight,height)\n",
    "\n",
    "    print(\"Your BMI is: \",round(your_bmi,1))\n",
    "    \n",
    "    if your_bmi < 18.5:\n",
    "        print (\"You're Underweight\")\n",
    "    elif 18.5 <= your_bmi <= 24.9:\n",
    "        print (\"You're Normal\")\n",
    "    elif 24.9 <= your_bmi <= 39.9:\n",
    "        print (\"You're Overweight\")\n",
    "    elif your_bmi >40:\n",
    "        print (\"You're Obese\")\n",
    "\n",
    "    next_calculation = input(\"Want to do another calculation? (yes/no?): \")\n",
    "    if next_calculation.lower() in (\"no\",\"n\",\"nope\"):\n",
    "        break"
   ]
  },
  {
   "cell_type": "code",
   "execution_count": null,
   "id": "0f764522",
   "metadata": {},
   "outputs": [],
   "source": [
    "#alternative made by Alex The Analyst"
   ]
  },
  {
   "cell_type": "code",
   "execution_count": 26,
   "id": "1f5a6f77",
   "metadata": {},
   "outputs": [
    {
     "name": "stdout",
     "output_type": "stream",
     "text": [
      "Enter your name:Luana\n",
      "Enter your weight in kg:54\n",
      "Enter your height in m:1.62\n",
      "Your BMI is:  20.6\n",
      "Luana  you're Normal\n",
      "Want to do another calculation? (yes/no?): n\n"
     ]
    }
   ],
   "source": [
    "while True:\n",
    "    \n",
    "    name = input(\"Enter your name:\")\n",
    "    \n",
    "    weight = float(input(\"Enter your weight in kg:\"))\n",
    "\n",
    "    height = float(input(\"Enter your height in m:\"))\n",
    "    \n",
    "    your_bmi = BMI(weight,height)\n",
    "\n",
    "    print(\"Your BMI is: \",round(your_bmi,1))\n",
    "    \n",
    "    if your_bmi >0:\n",
    "        if (your_bmi<18.5):\n",
    "            print (name, \" you're Underweight\")\n",
    "        elif (your_bmi <= 24.9):\n",
    "            print (name, \" you're Normal\")\n",
    "        elif (your_bmi <= 39.9):\n",
    "            print (name, \" you're Overweight\")\n",
    "        elif (your_bmi >40):\n",
    "            print (name, \" you're Obese\")\n",
    "\n",
    "    next_calculation = input(\"Want to do another calculation? (yes/no?): \")\n",
    "    if next_calculation.lower() in (\"no\",\"n\",\"nope\"):\n",
    "        break"
   ]
  },
  {
   "cell_type": "code",
   "execution_count": null,
   "id": "622cbec7",
   "metadata": {},
   "outputs": [],
   "source": []
  },
  {
   "cell_type": "code",
   "execution_count": null,
   "id": "979fc164",
   "metadata": {},
   "outputs": [],
   "source": []
  }
 ],
 "metadata": {
  "kernelspec": {
   "display_name": "Python 3 (ipykernel)",
   "language": "python",
   "name": "python3"
  },
  "language_info": {
   "codemirror_mode": {
    "name": "ipython",
    "version": 3
   },
   "file_extension": ".py",
   "mimetype": "text/x-python",
   "name": "python",
   "nbconvert_exporter": "python",
   "pygments_lexer": "ipython3",
   "version": "3.11.5"
  }
 },
 "nbformat": 4,
 "nbformat_minor": 5
}
