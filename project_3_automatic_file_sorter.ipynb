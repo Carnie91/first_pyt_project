{
 "cells": [
  {
   "cell_type": "markdown",
   "id": "17e08a54",
   "metadata": {},
   "source": [
    "**Automatic File Sorter**"
   ]
  },
  {
   "cell_type": "code",
   "execution_count": 1,
   "id": "7db66eb4",
   "metadata": {},
   "outputs": [],
   "source": [
    "import os, shutil"
   ]
  },
  {
   "cell_type": "code",
   "execution_count": 5,
   "id": "1f67ee4a",
   "metadata": {},
   "outputs": [],
   "source": [
    "path = r\"C:\\Users\\Nicola\\Documents\\Learning\\3_working_with_files\\Automatic_sorter\\\\\""
   ]
  },
  {
   "cell_type": "code",
   "execution_count": 4,
   "id": "156b4482",
   "metadata": {},
   "outputs": [
    {
     "data": {
      "text/plain": [
       "['CSVFile.csv',\n",
       " 'FakeFile.csv',\n",
       " 'FakeFile.txt',\n",
       " 'Max.png',\n",
       " 'NewFile.tsv',\n",
       " 'NewFile.txt',\n",
       " 'Rosie.png']"
      ]
     },
     "execution_count": 4,
     "metadata": {},
     "output_type": "execute_result"
    }
   ],
   "source": [
    "#1.look at the file you want to sort\n",
    "os.listdir(path)"
   ]
  },
  {
   "cell_type": "code",
   "execution_count": 7,
   "id": "f6f1c5ef",
   "metadata": {},
   "outputs": [],
   "source": [
    "#2.create the folders for sorting\n",
    "\n",
    "#os.makedirs(path + new_folder_name)\n",
    "\n",
    "folder_names = [\"CSV Files\",\"Text Files\",\"Imagine Files\"]\n",
    "\n",
    "#'C:\\Users\\Nicola\\Documents\\Learning\\3_working_with_files\\Automatic_sorter\\Imagine Files'\n",
    "\n",
    "for folder in folder_names:\n",
    "    if not os.path.exists(path + folder):\n",
    "        os.makedirs(path + folder)\n"
   ]
  },
  {
   "cell_type": "code",
   "execution_count": 9,
   "id": "b83cd3b8",
   "metadata": {},
   "outputs": [
    {
     "data": {
      "text/plain": [
       "['CSV Files',\n",
       " 'CSVFile.csv',\n",
       " 'FakeFile.csv',\n",
       " 'FakeFile.txt',\n",
       " 'Imagine Files',\n",
       " 'Max.png',\n",
       " 'NewFile.tsv',\n",
       " 'NewFile.txt',\n",
       " 'Rosie.png',\n",
       " 'Text Files']"
      ]
     },
     "execution_count": 9,
     "metadata": {},
     "output_type": "execute_result"
    }
   ],
   "source": [
    "os.listdir(path)"
   ]
  },
  {
   "cell_type": "code",
   "execution_count": 8,
   "id": "7222d32e",
   "metadata": {},
   "outputs": [],
   "source": [
    "#3.build up the logic\n",
    "\n",
    "file_names = os.listdir(path)\n",
    "path = r\"C:\\Users\\Nicola\\Documents\\Learning\\3_working_with_files\\Automatic_sorter\\\\\""
   ]
  },
  {
   "cell_type": "code",
   "execution_count": 10,
   "id": "13efdd9b",
   "metadata": {},
   "outputs": [],
   "source": [
    "for file in file_names:\n",
    "    if \".csv\" in file and not os.path.exists(path + \"CSV Files\\\\\" + file):\n",
    "        shutil.move(path+file, path + \"CSV Files\\\\\" + file)\n",
    "    elif \".txt\" in file and not os.path.exists(path + \"Text Files\\\\\" + file):\n",
    "        shutil.move(path+file, path + \"Text Files\\\\\" + file)\n",
    "    elif \".png\" in file and not os.path.exists(path + \"Imagine Files\\\\\" + file):\n",
    "        shutil.move(path+file, path + \"Imagine Files\\\\\" + file)"
   ]
  },
  {
   "cell_type": "code",
   "execution_count": 11,
   "id": "e16ed772",
   "metadata": {},
   "outputs": [],
   "source": [
    "#4. build up one script\n",
    "\n",
    "path = r\"C:\\Users\\Nicola\\Documents\\Learning\\3_working_with_files\\Automatic_sorter\\\\\"\n",
    "\n",
    "folder_names = [\"CSV Files\",\"Text Files\",\"Imagine Files\"]\n",
    "\n",
    "for folder in folder_names:\n",
    "    if not os.path.exists(path + folder):\n",
    "        os.makedirs(path + folder)\n",
    "        \n",
    "file_names = os.listdir(path)\n",
    "\n",
    "for file in file_names:\n",
    "    if \".csv\" in file and not os.path.exists(path + \"CSV Files\\\\\" + file):\n",
    "        shutil.move(path+file, path + \"CSV Files\\\\\" + file)\n",
    "    elif \".txt\" in file and not os.path.exists(path + \"Text Files\\\\\" + file):\n",
    "        shutil.move(path+file, path + \"Text Files\\\\\" + file)\n",
    "    elif \".png\" in file and not os.path.exists(path + \"Imagine Files\\\\\" + file):\n",
    "        shutil.move(path+file, path + \"Imagine Files\\\\\" + file)"
   ]
  },
  {
   "cell_type": "code",
   "execution_count": null,
   "id": "24218dc8",
   "metadata": {},
   "outputs": [],
   "source": []
  },
  {
   "cell_type": "code",
   "execution_count": null,
   "id": "d318e634",
   "metadata": {},
   "outputs": [],
   "source": []
  },
  {
   "cell_type": "code",
   "execution_count": null,
   "id": "22d0e967",
   "metadata": {},
   "outputs": [],
   "source": []
  },
  {
   "cell_type": "code",
   "execution_count": null,
   "id": "4ccbe424",
   "metadata": {},
   "outputs": [],
   "source": []
  },
  {
   "cell_type": "code",
   "execution_count": null,
   "id": "ffd439a9",
   "metadata": {},
   "outputs": [],
   "source": []
  },
  {
   "cell_type": "code",
   "execution_count": null,
   "id": "dd2d4dbd",
   "metadata": {},
   "outputs": [],
   "source": []
  },
  {
   "cell_type": "code",
   "execution_count": null,
   "id": "7c80c5b2",
   "metadata": {},
   "outputs": [],
   "source": []
  }
 ],
 "metadata": {
  "kernelspec": {
   "display_name": "Python 3 (ipykernel)",
   "language": "python",
   "name": "python3"
  },
  "language_info": {
   "codemirror_mode": {
    "name": "ipython",
    "version": 3
   },
   "file_extension": ".py",
   "mimetype": "text/x-python",
   "name": "python",
   "nbconvert_exporter": "python",
   "pygments_lexer": "ipython3",
   "version": "3.11.5"
  }
 },
 "nbformat": 4,
 "nbformat_minor": 5
}
